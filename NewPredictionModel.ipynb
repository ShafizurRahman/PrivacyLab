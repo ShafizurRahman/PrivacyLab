{
  "nbformat": 4,
  "nbformat_minor": 0,
  "metadata": {
    "colab": {
      "provenance": [],
      "authorship_tag": "ABX9TyP37w97lGvlFOeDbM7pMmHY",
      "include_colab_link": true
    },
    "kernelspec": {
      "name": "python3",
      "display_name": "Python 3"
    },
    "language_info": {
      "name": "python"
    }
  },
  "cells": [
    {
      "cell_type": "markdown",
      "metadata": {
        "id": "view-in-github",
        "colab_type": "text"
      },
      "source": [
        "<a href=\"https://colab.research.google.com/github/ShafizurRahman/PrivacyLab/blob/main/NewPredictionModel.ipynb\" target=\"_parent\"><img src=\"https://colab.research.google.com/assets/colab-badge.svg\" alt=\"Open In Colab\"/></a>"
      ]
    },
    {
      "cell_type": "code",
      "execution_count": 17,
      "metadata": {
        "id": "4VGFAg55F8lM"
      },
      "outputs": [],
      "source": [
        "import pandas as pd\n",
        "import numpy as np\n",
        "from matplotlib import pyplot\n",
        "\n",
        "from sklearn.model_selection import train_test_split\n",
        "\n",
        "from sklearn.ensemble import RandomForestRegressor\n",
        "from sklearn.linear_model import LinearRegression\n",
        "\n",
        "\n",
        "\n",
        "from sklearn.metrics import mean_squared_error, mean_absolute_error, median_absolute_error, r2_score\n"
      ]
    },
    {
      "cell_type": "code",
      "source": [
        "def MlModel(DatasetPath, TrainingAttributes,Label):\n",
        "    # initialize column names and read data\n",
        "    ColumnNames = [\"deviceID\", \"date\", \"longitude\", \"latitude\", \"altitude\", \"accelerometer x\",\n",
        "                   \"accelerometer y\", \"accelerometer z\", \"userAccelerometer x\", \"userAccelerometer y\",\n",
        "                   \"userAccelerometer z\", \"gyroscope x\", \"gyroscope y\", \"gyroscope z\", \"magnetometer x\",\n",
        "                   \"magnetometer y\", \"magnetometer z\"]\n",
        "    Data = pd.read_csv(DatasetPath, names=ColumnNames)\n",
        "    \n",
        "    # drop unnecessary columns\n",
        "    del Data['deviceID']\n",
        "    del Data['date']\n",
        "    \n",
        "    # select Label\n",
        "    LabelSubset= Data[Label]\n",
        "    \n",
        "    # select training attributes\n",
        "    DataSubset = Data[TrainingAttributes]\n",
        "    \n",
        "    #Split the training and label\n",
        "    TrainData, TestData, TrainLabel, TestLabel =train_test_split(DataSubset, LabelSubset, train_size=0.8, test_size=0.2,\n",
        "                                                                random_state=0)\n",
        "    #Model Training\n",
        "    \n",
        "    ################################################################\n",
        "    Model= RandomForestRegressor(n_estimators=24, random_state=0)\n",
        "    \n",
        "    \n",
        "    #Model Fitting\n",
        "    Model.fit(TrainData,TrainLabel)\n",
        "    \n",
        "    #Model Predictions\n",
        "    Predictions=Model.predict(TestData)\n",
        "    \n",
        "    \n",
        "    \n",
        "    #Mean Sqaure Error between the predicted values and the True Label\n",
        "    MSE=mean_squared_error(Predictions, TestLabel)\n",
        "    #Mean Absolute Error\n",
        "    MAE=mean_absolute_error(Predictions, TestLabel)\n",
        "    #Root Mean Sqaured Error\n",
        "    RMSE = np.sqrt(mean_squared_error(Predictions, TestLabel))\n",
        "    #Mean Absolute Percentage Error\n",
        "    def mean_absolute_percentage_error(y_true, y_pred):\n",
        "        return np.mean(np.abs((y_true - y_pred) / y_true)) * 100\n",
        "    MAPE = mean_absolute_percentage_error(Predictions, TestLabel)\n",
        "    #Median Absolute Error\n",
        "    MEDAE = median_absolute_error(Predictions, TestLabel)\n",
        "    #R-Sqaured\n",
        "    R2 = r2_score(Predictions, TestLabel)\n",
        "    \n",
        "    \n",
        "    print('MSE:',MSE)\n",
        "    print('RMSE:',RMSE)\n",
        "    print('MAE:',MAE)\n",
        "    print('MAPE:',MAPE)\n",
        "    print('MADAE:',MEDAE)\n",
        "    print('R2:',R2)\n",
        "    \n",
        "    \n",
        "    return Model, TestData\n",
        "\n",
        "\n",
        "\n",
        "# Here confidence interval is 95%, you can change this\n",
        "def prediction_intervals(model, X_test, percentile=95):\n",
        "    preds = np.stack([tree.predict(X_test) for tree in model.estimators_])\n",
        "    lower_bound = np.percentile(preds, (100 - percentile) / 2, axis=0)\n",
        "    upper_bound = np.percentile(preds, 100 - (100 - percentile) / 2, axis=0)\n",
        "    return lower_bound, upper_bound\n",
        "\n",
        "\n",
        "\n",
        "def predict_with_intervals(model, input_data, percentile=95):\n",
        "    prediction = model.predict(input_data)\n",
        "    lower_bound, upper_bound = prediction_intervals(model, input_data, percentile)\n",
        "    return prediction, lower_bound, upper_bound\n"
      ],
      "metadata": {
        "id": "a2YX_16aF_HG"
      },
      "execution_count": 18,
      "outputs": []
    },
    {
      "cell_type": "code",
      "source": [
        "###Following are the tunable parameters###########################\n",
        "\n",
        "\n",
        "\n",
        "#You can change the number of attributes. There is 3 only given, you can change it to as many attributes as you want the model to train on attributes\n",
        "#Relace the name with the attributes of your choice\n",
        "TrainingAttributes = ['altitude', 'accelerometer x', 'gyroscope z']\n",
        "\n",
        "#Change the label to anything you want\n",
        "Label = 'latitude'\n",
        "\n",
        "DatasetPath = 'testing10.csv'\n",
        "\n",
        "# Replace these values with the user's input\n",
        "#Manually input your values and then the model will give a predition based on your chosen value.\n",
        "#Here is only 3 values, but if you decide to train it on 5 attributes, give the values of those 5 attributes\n",
        "Values=[98.3363456099436, -7.22393178939819,0.00389426294714212]\n",
        "\n",
        "\n",
        "\n",
        "###################################################################################\n",
        "\n"
      ],
      "metadata": {
        "id": "TGhrq1tvGA0Z"
      },
      "execution_count": 22,
      "outputs": []
    },
    {
      "cell_type": "code",
      "source": [
        "user_input = np.array([Values])\n",
        "\n",
        "model, X_test = MlModel(DatasetPath, TrainingAttributes, Label)\n",
        "\n",
        "prediction, lower_bound, upper_bound = predict_with_intervals(model, user_input, percentile=99)\n",
        "\n",
        "\n",
        "print('The model was trained using the following attributes:', TrainingAttributes)\n",
        "print(\"Prediction:\", prediction[0])\n",
        "print(\"Lower Bound:\", lower_bound[0])\n",
        "print(\"Upper Bound:\", upper_bound[0])\n",
        "\n",
        "#32.7693027"
      ],
      "metadata": {
        "colab": {
          "base_uri": "https://localhost:8080/"
        },
        "id": "Yp_V5qG6GC12",
        "outputId": "58d8e1ed-c13c-4ad0-c065-46c7822a33be"
      },
      "execution_count": 23,
      "outputs": [
        {
          "output_type": "stream",
          "name": "stdout",
          "text": [
            "MSE: 0.0010057246593290897\n",
            "RMSE: 0.031713162241080436\n",
            "MAE: 0.011562798886201436\n",
            "MAPE: 0.0366646080813576\n",
            "MADAE: 0.0015215875000151868\n",
            "R2: 0.998611128150797\n",
            "The model was trained using the following attributes: ['altitude', 'accelerometer x', 'gyroscope z']\n",
            "Prediction: 32.76897512500002\n",
            "Lower Bound: 32.76234500699999\n",
            "Upper Bound: 32.7693027\n"
          ]
        },
        {
          "output_type": "stream",
          "name": "stderr",
          "text": [
            "/usr/local/lib/python3.9/dist-packages/sklearn/base.py:439: UserWarning: X does not have valid feature names, but RandomForestRegressor was fitted with feature names\n",
            "  warnings.warn(\n"
          ]
        }
      ]
    },
    {
      "cell_type": "code",
      "source": [],
      "metadata": {
        "colab": {
          "base_uri": "https://localhost:8080/"
        },
        "id": "LPve5u0lGFLt",
        "outputId": "762d8065-92a3-499e-802a-8b3e70860fb5"
      },
      "execution_count": 21,
      "outputs": [
        {
          "output_type": "stream",
          "name": "stdout",
          "text": [
            "\u001b[0m\u001b[01;34msample_data\u001b[0m/  testing10.csv\n"
          ]
        }
      ]
    },
    {
      "cell_type": "code",
      "source": [],
      "metadata": {
        "id": "34LWf-eVGdaO"
      },
      "execution_count": null,
      "outputs": []
    }
  ]
}